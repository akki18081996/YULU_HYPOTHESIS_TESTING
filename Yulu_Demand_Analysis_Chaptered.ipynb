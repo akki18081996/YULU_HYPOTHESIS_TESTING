{
 "cells": [
  {
   "cell_type": "markdown",
   "id": "9f565eed",
   "metadata": {},
   "source": [
    "# Yulu Demand Analysis & Hypothesis Testing"
   ]
  },
  {
   "cell_type": "markdown",
   "id": "3df7bc2a",
   "metadata": {},
   "source": [
    "**By Akanksha Trivedi**"
   ]
  },
  {
   "cell_type": "markdown",
   "id": "a83dc23f",
   "metadata": {},
   "source": [
    "## 1. Business Case"
   ]
  },
  {
   "cell_type": "markdown",
   "id": "e7b51e7c",
   "metadata": {},
   "source": [
    "- Understand demand factors for Yulu's shared e-cycles\n",
    "- Use hypothesis testing to validate assumptions"
   ]
  },
  {
   "cell_type": "markdown",
   "id": "5ba58267",
   "metadata": {},
   "source": [
    "## 2. Load and Profile Data"
   ]
  },
  {
   "cell_type": "code",
   "execution_count": null,
   "id": "cbaf69df",
   "metadata": {},
   "outputs": [],
   "source": [
    "```python\n",
    "import pandas as pd\n",
    "import numpy as np\n",
    "import matplotlib.pyplot as plt\n",
    "import seaborn as sns\n",
    "from scipy import stats\n",
    "\n",
    "# Load dataset\n",
    "df = pd.read_csv('yulu_data.csv')\n",
    "df.info()\n",
    "df.describe()\n",
    "```"
   ]
  },
  {
   "cell_type": "markdown",
   "id": "b6097c60",
   "metadata": {},
   "source": [
    "## 3. Univariate Analysis"
   ]
  },
  {
   "cell_type": "code",
   "execution_count": null,
   "id": "e6335f02",
   "metadata": {},
   "outputs": [],
   "source": [
    "```python\n",
    "# Distributions\n",
    "cols = ['casual', 'registered', 'count', 'temp', 'atemp', 'humidity', 'windspeed']\n",
    "df[cols].hist(figsize=(12,8))\n",
    "plt.show()\n",
    "```"
   ]
  },
  {
   "cell_type": "markdown",
   "id": "1c7ddd96",
   "metadata": {},
   "source": [
    "### 🔍 Insights"
   ]
  },
  {
   "cell_type": "markdown",
   "id": "4ca8e07f",
   "metadata": {},
   "source": [
    "- Casual, registered and count: log-normal\n",
    "- Humidity, count, registered have outliers"
   ]
  },
  {
   "cell_type": "markdown",
   "id": "5ed12feb",
   "metadata": {},
   "source": [
    "## 4. Bivariate Analysis"
   ]
  },
  {
   "cell_type": "code",
   "execution_count": null,
   "id": "a1330d06",
   "metadata": {},
   "outputs": [],
   "source": [
    "```python\n",
    "sns.boxplot(x='season', y='count', data=df)\n",
    "plt.title('Season vs Count')\n",
    "plt.show()\n",
    "```"
   ]
  },
  {
   "cell_type": "markdown",
   "id": "f0069fae",
   "metadata": {},
   "source": [
    "### 🔍 Insights"
   ]
  },
  {
   "cell_type": "markdown",
   "id": "0af3842f",
   "metadata": {},
   "source": [
    "- More bikes rented in summer/fall\n",
    "- Rainy/foggy days show reduced usage"
   ]
  },
  {
   "cell_type": "markdown",
   "id": "5e62db5f",
   "metadata": {},
   "source": [
    "## 5. Correlation Analysis"
   ]
  },
  {
   "cell_type": "code",
   "execution_count": null,
   "id": "18cc6ce9",
   "metadata": {},
   "outputs": [],
   "source": [
    "```python\n",
    "sns.heatmap(df.corr(), annot=True)\n",
    "plt.title('Correlation Matrix')\n",
    "plt.show()\n",
    "```"
   ]
  },
  {
   "cell_type": "markdown",
   "id": "436583ea",
   "metadata": {},
   "source": [
    "### 🔍 Insights"
   ]
  },
  {
   "cell_type": "markdown",
   "id": "d9140e37",
   "metadata": {},
   "source": [
    "- Strong positive correlation between count and registered users"
   ]
  },
  {
   "cell_type": "markdown",
   "id": "4951b5e3",
   "metadata": {},
   "source": [
    "## 6. Hypothesis Testing"
   ]
  },
  {
   "cell_type": "code",
   "execution_count": null,
   "id": "30339f64",
   "metadata": {},
   "outputs": [],
   "source": [
    "```python\n",
    "# Chi-Square Test: Weather vs Season\n",
    "ct = pd.crosstab(df['season'], df['weather'])\n",
    "chi2, p, dof, _ = stats.chi2_contingency(ct)\n",
    "print('Chi-square p-value:', p)\n",
    "```"
   ]
  },
  {
   "cell_type": "markdown",
   "id": "837b19fb",
   "metadata": {},
   "source": [
    "## 7. Recommendations"
   ]
  },
  {
   "cell_type": "markdown",
   "id": "9f3505d9",
   "metadata": {},
   "source": [
    "- Promote rentals in summer/spring\n",
    "- Weather-specific discounts\n",
    "- Loyalty programs for registered users\n",
    "- Provide customer comforts (umbrellas, water)\n",
    "- Use green campaigns to boost eco-awareness"
   ]
  }
 ],
 "metadata": {},
 "nbformat": 4,
 "nbformat_minor": 5
}
